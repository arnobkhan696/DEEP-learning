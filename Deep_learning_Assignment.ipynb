{
  "nbformat": 4,
  "nbformat_minor": 0,
  "metadata": {
    "colab": {
      "provenance": []
    },
    "kernelspec": {
      "name": "python3",
      "display_name": "Python 3"
    },
    "language_info": {
      "name": "python"
    }
  },
  "cells": [
    {
      "cell_type": "markdown",
      "source": [
        "1. What is TensorFlow 2.0, and how is it different from TensorFlow 1.x?\n",
        "- TensorFlow 2.0 is an open-source machine learning framework developed by Google for building and deploying machine learning models, especially deep learning models. It provides tools for building neural networks, training them, and deploying them in production environments.\n",
        "  - Eager Execution by Default: Unlike TensorFlow 1.x, TensorFlow 2.0 runs operations immediately without building static graphs first, making debugging and development easier.\n",
        "  - Simplified API: TensorFlow 2.0 offers a more intuitive and Pythonic interface, focusing heavily on the high-level API called tf.keras, which is fully integrated and easier to use.\n",
        "\n",
        "2. How do you install TensorFlow 2.0?\n",
        "- pip install tensorflow==2.0.0\n",
        "\n",
        "3. What is the primary function of the tf.function in TensorFlow 2.0?\n",
        "- By default, TensorFlow 2.0 runs eagerly (operations execute immediately, line by line), which is great for debugging but not as fast for production or large-scale models.\n",
        "\n",
        "  When you decorate a Python function with @tf.function, TensorFlow:\n",
        "\n",
        "  - i) Traces the Python function and creates a computational graph (a static graph).\n",
        "  - ii) Executes the graph much faster because it avoids the Python overhead.\n",
        "  - iii) Optimizes performance for faster execution (e.g., using XLA compiler).\n",
        "\n",
        "4. What is the purpose of the Model class in TensorFlow 2.0?\n",
        "- The tf.keras.Model class in TensorFlow 2.0 is a central building block for creating, training, evaluating, and deploying machine learning models.\n",
        "\n",
        "  🎯 Primary Purpose of tf.keras.Model:\n",
        "\n",
        "  - Provides a standard, high-level API for defining models.\n",
        "\n",
        "  - Encapsulates layers, loss functions, optimizers, and metrics in a convenient way.\n",
        "\n",
        "  - Simplifies training, evaluation, saving, and inference workflows.\n",
        "\n",
        "5. How do you create a neural network using TensorFlow 2.0?\n",
        "- 1️⃣ Define the Model Architecture\n",
        "\n",
        "  - Use the tf.keras.Sequential API for simple layer stacking, or\n",
        "\n",
        "  - Use the Functional API (tf.keras.Model) for more flexible architectures, or\n",
        "\n",
        "  - Subclass tf.keras.Model to customize behavior.\n",
        "\n",
        "- 2️⃣ Compile the Model\n",
        "\n",
        "  - Choose an optimizer (e.g., Adam, SGD).\n",
        "\n",
        "  - Choose a loss function (e.g., categorical crossentropy, mean squared error).\n",
        "\n",
        "  - Specify metrics to evaluate performance (e.g., accuracy).\n",
        "\n",
        "6. What is the importance of Tensor Space in TensorFlow?\n",
        "- 1️⃣ Efficient Computation\n",
        "\n",
        "  - Tensors are optimized for fast computations using hardware accelerators (GPUs, TPUs).\n",
        "\n",
        "  - TensorFlow handles large-scale matrix multiplications, convolutions, etc., efficiently in tensor space.\n",
        "\n",
        "- 2️⃣ Parallelism\n",
        "\n",
        "  - Operations in tensor space allow for parallel computations across batches or multiple cores.\n",
        "\n",
        "  - Instead of processing one sample at a time, entire batches of data (as tensors) are processed simultaneously.\n",
        "\n",
        "- 3️⃣ Automatic Differentiation\n",
        "\n",
        "  - TensorFlow tracks operations on tensors in a computational graph.\n",
        "\n",
        "  - This enables automatic gradient computation (important for backpropagation in neural networks).\n",
        "\n",
        "- 4️⃣ Flexibility & Abstraction\n",
        "\n",
        "  - Tensor space abstracts complex mathematical operations into simple tensor manipulations (addition, dot product, reshape, transpose).\n",
        "\n",
        "  - It supports a wide variety of operations in a uniform way.\n",
        "\n",
        "- 5️⃣ Scalability\n",
        "\n",
        "  - Tensors make it easy to scale models from small data (single sample) to large data (mini-batch or full dataset).\n",
        "\n",
        "7. How can TensorBoard be integrated with TensorFlow 2.0?\n",
        "  - Integrating TensorBoard with TensorFlow 2.0 primarily involves using the tf.keras.callbacks.TensorBoard callback during model training. This allows TensorBoard to log various aspects of your training process for visualization.\n",
        "\n",
        "8. What is the purpose of TensorFlow Playground?\n",
        "- Key Purposes of TensorFlow Playground:\n",
        "\n",
        "- I) Visualize Neural Network Behavior\n",
        "\n",
        "  - See how different architectures (number of layers, neurons) affect learning.\n",
        "\n",
        "  - Observe how decision boundaries evolve in real-time.\n",
        "\n",
        "- II) Experiment with Parameters\n",
        "\n",
        "  - Change hyperparameters such as learning rate, activation functions, regularization, and number of hidden units.\n",
        "\n",
        "  - Explore the impact of data complexity (e.g., linearly separable vs. non-linearly separable datasets).\n",
        "\n",
        "- III) Understand Concepts Visually\n",
        "\n",
        "  - Visualize how inputs get transformed through layers.\n",
        "\n",
        "  - Observe the effect of activation functions like ReLU, tanh, sigmoid.\n",
        "\n",
        "- IV) Educational Tool\n",
        "\n",
        "  - Designed primarily for teaching purposes.\n",
        "\n",
        "  - Great for hands-on experimentation during tutorials or workshops.\n",
        "\n",
        "9. What is Netron, and how is it useful for deep learning models?\n",
        "- Netron is an open-source visualizer tool for neural network, machine learning, and deep learning models. It provides a graphical interface to inspect model architectures from various frameworks.\n",
        "\n",
        "- Why Netron is Useful for Deep Learning Models:\n",
        "\n",
        "- I)🔍 Model Architecture Visualization\n",
        "\n",
        "  - Easily view all layers, connections, input shapes, output shapes, and parameter counts.\n",
        "\n",
        "  - See how data flows through the network from input to output.\n",
        "\n",
        "- II) 🧱 Debugging and Understanding Models\n",
        "\n",
        "  - Inspect layer configurations and parameters without writing code.\n",
        "\n",
        "  - Useful for catching model construction errors or understanding pretrained models.\n",
        "\n",
        "- III) 🚀 Supports Many Formats\n",
        "\n",
        "  - Works with models from different deep learning frameworks in one place.\n",
        "\n",
        "- IV) 🌐 Web and Desktop Support\n",
        "\n",
        "  - Can be run in a browser or installed as a desktop application.\n",
        "\n",
        "  - No need for extensive installations or setup.\n",
        "\n",
        "- V) 📊 Facilitates Collaboration\n",
        "\n",
        "  - Share visualizations with colleagues for easier explanation of model structure.\n",
        "\n",
        "  - Export diagrams as images for documentation or presentations.\n",
        "\n",
        "10. What is the difference between TensorFlow and PyTorch?\n",
        "- 📜 Origin:\n",
        "\n",
        "  - TensorFlow Developed by Google Brain\n",
        "  - PyTorch Developed by Facebook’s AI Research (FAIR)\n",
        "\n",
        "- Computation Style:\n",
        "\n",
        "  - TensorFlow Static Computation Graph (TensorFlow 1.x), now supports Eager Execution (TF 2.x)\n",
        "  - PyTorch Dynamic Computation Graph (Define-by-Run)\n",
        "\n",
        "- Ease of Use:\n",
        "\n",
        "  - TensorFlow More boilerplate code, harder to debug in TF 1.x, easier with TF 2.x (Keras-like API)\n",
        "  - PyTorch Intuitive and Pythonic, easy to debug using standard Python tools\n",
        "\n",
        "- Performance:\n",
        "\n",
        "  - TensorFlow Good for production, optimized for distributed training and deployment (TensorFlow Serving, TensorFlow Lite, TensorFlow.js)\n",
        "  - PyTorch Excellent for research and prototyping, but some extra effort needed for production deployment (TorchScript, ONNX)\n",
        "11. How do you install PyTorch?\n",
        "- I) Visit the official PyTorch website\n",
        "- II) Select your configuration:\n",
        "\n",
        "  - PyTorch Build: Stable (Recommended)\n",
        "\n",
        "  - Your OS: Windows, Linux, or Mac\n",
        "\n",
        "  - Package: pip or conda\n",
        "\n",
        "  - Language: Python\n",
        "\n",
        "  - Compute Platform: CPU or CUDA (for GPU support)\n",
        "\n",
        "12. What is the basic structure of a PyTorch neural network?\n",
        "- I) Import Libraries:\n",
        "  - First, we import the necessary PyTorch modules such as torch, torch.nn (for building neural networks), and torch.optim (for optimization algorithms).\n",
        "\n",
        "- II) Define the Neural Network Class:\n",
        "  - In PyTorch, a neural network is defined by creating a class that inherits from torch.nn.Module. Inside the class:\n",
        "\n",
        "  - The __init__() method is used to define the layers of the network (e.g., fully connected layers, activation functions).\n",
        "\n",
        "  - The forward() method defines the forward pass, describing how input data flows through the layers to produce the output.\n",
        "\n",
        "- III) Initialize the Model, Loss Function, and Optimizer:\n",
        "  - After defining the network structure, we create an instance of the model class.\n",
        "\n",
        "  - The loss function (e.g., CrossEntropyLoss for classification tasks) is used to measure how far the model's predictions are from the true labels.\n",
        "\n",
        "  - The optimizer (e.g., Adam or SGD) is responsible for updating the model’s parameters based on gradients computed during backpropagation.\n",
        "\n",
        "- IV) Training Loop:\n",
        "  - The model is trained over multiple epochs by iterating over batches of training data:\n",
        "\n",
        "  - Perform the forward pass to compute model predictions.\n",
        "\n",
        "  - Calculate the loss by comparing predictions to true labels.\n",
        "\n",
        "  - Perform backpropagation by computing gradients of the loss with respect to model parameters.\n",
        "\n",
        "  - Update the model parameters using the optimizer.\n",
        "\n",
        "- V) Model Evaluation:\n",
        "  - After training, the model is evaluated on test data. During evaluation, the model is set to evaluation mode to disable behaviors like dropout, and gradients are not computed to save memory and computation.\n",
        "\n",
        "13. What is the significance of tensors in PyTorch?\n",
        "- I) Efficient Computation:\n",
        "  - PyTorch tensors enable efficient computation using CPU or GPU acceleration.\n",
        "  - Operations on tensors are optimized for performance, enabling fast matrix multiplication, element-wise operations, and other linear algebra tasks critical in deep learning.\n",
        "\n",
        "- II) Automatic Differentiation (Autograd):\n",
        "\n",
        "  PyTorch tensors can track gradients automatically.\n",
        "\n",
        "  - When a tensor has requires_grad=True, PyTorch records the computational graph.\n",
        "\n",
        "  - This enables automatic gradient computation during backpropagation, which is essential for updating neural network parameters.\n",
        "\n",
        "- III) Data Storage for Inputs and Model Parameters:\n",
        "  - Inputs to neural networks (e.g., images, text embeddings) and model parameters (weights and biases) are stored as tensors.\n",
        "  - This makes tensor operations seamless and unified throughout the model training and inference pipeline.\n",
        "\n",
        "14. What is the difference between torch.Tensor and torch.cuda.Tensor in PyTorch?\n",
        "- 💾 Device:\n",
        "  - torch.Tensor Stored in system memory (CPU)\n",
        "  - torch.cuda.Tensor Stored in GPU memory (CUDA)\n",
        "- Computation Speed:\n",
        "  - torch.Tensor Computation runs on CPU → slower for large-scale deep learning\n",
        "  - torch.cuda.Tensor Computation runs on GPU → much faster for large matrix operations and neural network training\n",
        "- Use Case:\n",
        "  - torch.Tensor Suitable for small-scale computation, debugging, or when GPU is unavailable\n",
        "  - torch.cuda.Tensor Suitable for large-scale models, training with large datasets, and accelerating matrix operations\n",
        "\n",
        "15. What is the purpose of the torch.optim module in PyTorch?\n",
        "- ✅ Parameter Update\n",
        "  - The primary purpose of torch.optim is to update the model’s parameters (weights and biases) using the gradients computed during backpropagation.\n",
        "  - This step improves the model’s performance by minimizing the loss.\n",
        "- ✅ Learning Rate Management\n",
        "  - Optimizers manage the learning rate, which controls how large of a step we take when updating parameters in the direction of the gradient.\n",
        "- ✅ Advanced Features\n",
        "  - Some optimizers support features like momentum, weight decay (regularization), and learning rate schedulers to improve convergence and reduce overfitting.\n",
        "\n",
        "16. What are some common activation functions used in neural networks?\n",
        "- Sigmoid (Logistic) Activation:\n",
        "\n",
        "  Useful for binary classification tasks (outputs probabilities).\n",
        "- Tanh (Hyperbolic Tangent) Activation\n",
        "\n",
        "  Zero-centered, better than sigmoid in many cases\n",
        "- ReLU (Rectified Linear Unit) Activation\n",
        "\n",
        "  - Most popular for hidden layers in deep networks.\n",
        "\n",
        "  - Helps mitigate vanishing gradient problems.\n",
        "\n",
        "- Leaky ReLU\n",
        "- Softmax Activation\n",
        "\n",
        "17. What is the difference between torch.nn.Module and torch.nn.Sequential in PyTorch?\n",
        "- Definition:\n",
        "  - torch.nn.Module Base class for all neural network models in PyTorch. You define a custom model by inheriting from it and implementing the __init__() and forward() methods.\n",
        "  - torch.nn.Sequential A simple container that stacks layers sequentially in the order they are added. The output of one layer is directly passed to the next.\n",
        "- Flexibility\n",
        "  - torch.nn.Module Highly flexible. Allows arbitrary layer connections, complex forward logic, conditional execution, multiple inputs, and outputs.\n",
        "  - torch.nn.Sequential Limited to simple linear stacks of layers with no complex control flow.\n",
        "- Usage Example:\n",
        "  - torch.nn.Module Used when you need custom behavior in the forward pass.\n",
        "  - torch.nn.Sequential Useful for quickly building simple feedforward models.\n",
        "\n",
        "18. How can you monitor training progress in TensorFlow 2.0?\n",
        "- TensorBoard Integration\n",
        "\n",
        "  - TensorBoard is a visualization toolkit built into TensorFlow.\n",
        "\n",
        "  - It tracks metrics like loss, accuracy, learning rate, and visualizes the computational graph, histograms of weights, and more.\n",
        "\n",
        "19. How does the Keras API fit into TensorFlow 2.0?\n",
        "- In TensorFlow 2.0, the Keras API is integrated as the high-level, user-friendly interface for building, training, and evaluating deep learning models. It provides a simple and intuitive way to define neural networks, making TensorFlow more accessible for beginners and faster for experienced developers.\n",
        "\n",
        "20. What is an example of a deep learning project that can be implemented using TensorFlow 2.0?\n",
        "- An example of a deep learning project that can be implemented using TensorFlow 2.0 is Image Classification using Convolutional Neural Networks (CNNs).\n",
        "\n",
        "21. What is the main advantage of using pre-trained models in TensorFlow and PyTorch?\n",
        "- 1️⃣ Reduced Training Time:\n",
        "\n",
        "  - Pre-trained models are already trained on large datasets (e.g., ImageNet).\n",
        "\n",
        "  - Instead of training from scratch, you fine-tune the model on your own dataset.\n",
        "\n",
        "  - This saves significant time and computational resources.\n",
        "- 2️⃣ Better Performance with Less Data\n",
        "\n",
        "  - Pre-trained models have already learned useful features (edges, shapes, textures).\n",
        "\n",
        "  - Even with a smaller dataset, they often generalize better compared to models trained from scratch.\n",
        "- 3️⃣ Ease of Use\n",
        "\n",
        "  - Both TensorFlow (via tf.keras.applications) and PyTorch (via torchvision.models) provide many ready-to-use models like:\n",
        "\n",
        "  - ResNet\n",
        "\n",
        "  - VGG\n",
        "\n",
        "  - MobileNet\n",
        "\n",
        "  - EfficientNet"
      ],
      "metadata": {
        "id": "ksJ6jtBMB7TS"
      }
    },
    {
      "cell_type": "markdown",
      "source": [
        "#Practical"
      ],
      "metadata": {
        "id": "vYWetbFNznjx"
      }
    },
    {
      "cell_type": "code",
      "source": [
        "# 1. How do you install and verify that TensorFlow 2.0 was installed successfully?\n",
        "!pip install tensorflow==2.19.1"
      ],
      "metadata": {
        "id": "W6gep-4bBPDi",
        "colab": {
          "base_uri": "https://localhost:8080/"
        },
        "outputId": "2e2a4170-193a-49af-fc71-edb1f664b0f1"
      },
      "execution_count": 2,
      "outputs": [
        {
          "output_type": "stream",
          "name": "stdout",
          "text": [
            "Collecting tensorflow==2.19.1\n",
            "  Downloading tensorflow-2.19.1-cp312-cp312-manylinux_2_17_x86_64.manylinux2014_x86_64.whl.metadata (4.1 kB)\n",
            "Requirement already satisfied: absl-py>=1.0.0 in /usr/local/lib/python3.12/dist-packages (from tensorflow==2.19.1) (1.4.0)\n",
            "Requirement already satisfied: astunparse>=1.6.0 in /usr/local/lib/python3.12/dist-packages (from tensorflow==2.19.1) (1.6.3)\n",
            "Requirement already satisfied: flatbuffers>=24.3.25 in /usr/local/lib/python3.12/dist-packages (from tensorflow==2.19.1) (25.2.10)\n",
            "Requirement already satisfied: gast!=0.5.0,!=0.5.1,!=0.5.2,>=0.2.1 in /usr/local/lib/python3.12/dist-packages (from tensorflow==2.19.1) (0.6.0)\n",
            "Requirement already satisfied: google-pasta>=0.1.1 in /usr/local/lib/python3.12/dist-packages (from tensorflow==2.19.1) (0.2.0)\n",
            "Requirement already satisfied: libclang>=13.0.0 in /usr/local/lib/python3.12/dist-packages (from tensorflow==2.19.1) (18.1.1)\n",
            "Requirement already satisfied: opt-einsum>=2.3.2 in /usr/local/lib/python3.12/dist-packages (from tensorflow==2.19.1) (3.4.0)\n",
            "Requirement already satisfied: packaging in /usr/local/lib/python3.12/dist-packages (from tensorflow==2.19.1) (25.0)\n",
            "Requirement already satisfied: protobuf!=4.21.0,!=4.21.1,!=4.21.2,!=4.21.3,!=4.21.4,!=4.21.5,<6.0.0dev,>=3.20.3 in /usr/local/lib/python3.12/dist-packages (from tensorflow==2.19.1) (5.29.5)\n",
            "Requirement already satisfied: requests<3,>=2.21.0 in /usr/local/lib/python3.12/dist-packages (from tensorflow==2.19.1) (2.32.4)\n",
            "Requirement already satisfied: setuptools in /usr/local/lib/python3.12/dist-packages (from tensorflow==2.19.1) (75.2.0)\n",
            "Requirement already satisfied: six>=1.12.0 in /usr/local/lib/python3.12/dist-packages (from tensorflow==2.19.1) (1.17.0)\n",
            "Requirement already satisfied: termcolor>=1.1.0 in /usr/local/lib/python3.12/dist-packages (from tensorflow==2.19.1) (3.1.0)\n",
            "Requirement already satisfied: typing-extensions>=3.6.6 in /usr/local/lib/python3.12/dist-packages (from tensorflow==2.19.1) (4.15.0)\n",
            "Requirement already satisfied: wrapt>=1.11.0 in /usr/local/lib/python3.12/dist-packages (from tensorflow==2.19.1) (1.17.3)\n",
            "Requirement already satisfied: grpcio<2.0,>=1.24.3 in /usr/local/lib/python3.12/dist-packages (from tensorflow==2.19.1) (1.74.0)\n",
            "Requirement already satisfied: tensorboard~=2.19.0 in /usr/local/lib/python3.12/dist-packages (from tensorflow==2.19.1) (2.19.0)\n",
            "Requirement already satisfied: keras>=3.5.0 in /usr/local/lib/python3.12/dist-packages (from tensorflow==2.19.1) (3.10.0)\n",
            "Requirement already satisfied: numpy<2.2.0,>=1.26.0 in /usr/local/lib/python3.12/dist-packages (from tensorflow==2.19.1) (2.0.2)\n",
            "Requirement already satisfied: h5py>=3.11.0 in /usr/local/lib/python3.12/dist-packages (from tensorflow==2.19.1) (3.14.0)\n",
            "Requirement already satisfied: ml-dtypes<1.0.0,>=0.5.1 in /usr/local/lib/python3.12/dist-packages (from tensorflow==2.19.1) (0.5.3)\n",
            "Requirement already satisfied: wheel<1.0,>=0.23.0 in /usr/local/lib/python3.12/dist-packages (from astunparse>=1.6.0->tensorflow==2.19.1) (0.45.1)\n",
            "Requirement already satisfied: rich in /usr/local/lib/python3.12/dist-packages (from keras>=3.5.0->tensorflow==2.19.1) (13.9.4)\n",
            "Requirement already satisfied: namex in /usr/local/lib/python3.12/dist-packages (from keras>=3.5.0->tensorflow==2.19.1) (0.1.0)\n",
            "Requirement already satisfied: optree in /usr/local/lib/python3.12/dist-packages (from keras>=3.5.0->tensorflow==2.19.1) (0.17.0)\n",
            "Requirement already satisfied: charset_normalizer<4,>=2 in /usr/local/lib/python3.12/dist-packages (from requests<3,>=2.21.0->tensorflow==2.19.1) (3.4.3)\n",
            "Requirement already satisfied: idna<4,>=2.5 in /usr/local/lib/python3.12/dist-packages (from requests<3,>=2.21.0->tensorflow==2.19.1) (3.10)\n",
            "Requirement already satisfied: urllib3<3,>=1.21.1 in /usr/local/lib/python3.12/dist-packages (from requests<3,>=2.21.0->tensorflow==2.19.1) (2.5.0)\n",
            "Requirement already satisfied: certifi>=2017.4.17 in /usr/local/lib/python3.12/dist-packages (from requests<3,>=2.21.0->tensorflow==2.19.1) (2025.8.3)\n",
            "Requirement already satisfied: markdown>=2.6.8 in /usr/local/lib/python3.12/dist-packages (from tensorboard~=2.19.0->tensorflow==2.19.1) (3.9)\n",
            "Requirement already satisfied: tensorboard-data-server<0.8.0,>=0.7.0 in /usr/local/lib/python3.12/dist-packages (from tensorboard~=2.19.0->tensorflow==2.19.1) (0.7.2)\n",
            "Requirement already satisfied: werkzeug>=1.0.1 in /usr/local/lib/python3.12/dist-packages (from tensorboard~=2.19.0->tensorflow==2.19.1) (3.1.3)\n",
            "Requirement already satisfied: MarkupSafe>=2.1.1 in /usr/local/lib/python3.12/dist-packages (from werkzeug>=1.0.1->tensorboard~=2.19.0->tensorflow==2.19.1) (3.0.2)\n",
            "Requirement already satisfied: markdown-it-py>=2.2.0 in /usr/local/lib/python3.12/dist-packages (from rich->keras>=3.5.0->tensorflow==2.19.1) (4.0.0)\n",
            "Requirement already satisfied: pygments<3.0.0,>=2.13.0 in /usr/local/lib/python3.12/dist-packages (from rich->keras>=3.5.0->tensorflow==2.19.1) (2.19.2)\n",
            "Requirement already satisfied: mdurl~=0.1 in /usr/local/lib/python3.12/dist-packages (from markdown-it-py>=2.2.0->rich->keras>=3.5.0->tensorflow==2.19.1) (0.1.2)\n",
            "Downloading tensorflow-2.19.1-cp312-cp312-manylinux_2_17_x86_64.manylinux2014_x86_64.whl (645.0 MB)\n",
            "\u001b[2K   \u001b[90m━━━━━━━━━━━━━━━━━━━━━━━━━━━━━━━━━━━━━━━━\u001b[0m \u001b[32m645.0/645.0 MB\u001b[0m \u001b[31m2.3 MB/s\u001b[0m eta \u001b[36m0:00:00\u001b[0m\n",
            "\u001b[?25hInstalling collected packages: tensorflow\n",
            "  Attempting uninstall: tensorflow\n",
            "    Found existing installation: tensorflow 2.19.0\n",
            "    Uninstalling tensorflow-2.19.0:\n",
            "      Successfully uninstalled tensorflow-2.19.0\n",
            "\u001b[31mERROR: pip's dependency resolver does not currently take into account all the packages that are installed. This behaviour is the source of the following dependency conflicts.\n",
            "tensorflow-decision-forests 1.12.0 requires tensorflow==2.19.0, but you have tensorflow 2.19.1 which is incompatible.\u001b[0m\u001b[31m\n",
            "\u001b[0mSuccessfully installed tensorflow-2.19.1\n"
          ]
        }
      ]
    },
    {
      "cell_type": "code",
      "source": [
        "import tensorflow as tf\n",
        "\n",
        "# Check TensorFlow version\n",
        "print(\"TensorFlow version:\", tf.__version__)\n",
        "\n",
        "# Check if eager execution is enabled\n",
        "print(\"Eager execution enabled:\", tf.executing_eagerly())"
      ],
      "metadata": {
        "colab": {
          "base_uri": "https://localhost:8080/"
        },
        "id": "IBFhjFC1z_E7",
        "outputId": "c3562b22-1e17-45ec-88f9-fc9034de7176"
      },
      "execution_count": 3,
      "outputs": [
        {
          "output_type": "stream",
          "name": "stdout",
          "text": [
            "TensorFlow version: 2.19.1\n",
            "Eager execution enabled: True\n"
          ]
        }
      ]
    },
    {
      "cell_type": "code",
      "source": [
        "# 2. How can you define a simple function in TensorFlow 2.0 to perform addition?\n",
        "import tensorflow as tf\n",
        "\n",
        "# Optional: Decorate with @tf.function for graph execution (faster in large computations)\n",
        "@tf.function\n",
        "def simple_addition(a, b):\n",
        "    return tf.add(a, b)\n",
        "\n",
        "# Create TensorFlow constants\n",
        "x = tf.constant(5)\n",
        "y = tf.constant(3)\n",
        "\n",
        "# Call the function\n",
        "result = simple_addition(x, y)\n",
        "\n",
        "# Print result as a number\n",
        "print(\"Addition result:\", result.numpy())"
      ],
      "metadata": {
        "colab": {
          "base_uri": "https://localhost:8080/"
        },
        "id": "1xYxp9kE04Nd",
        "outputId": "41e2bccd-74eb-482b-d99c-92c4deef96b2"
      },
      "execution_count": 4,
      "outputs": [
        {
          "output_type": "stream",
          "name": "stdout",
          "text": [
            "Addition result: 8\n"
          ]
        }
      ]
    },
    {
      "cell_type": "code",
      "source": [
        "# 3. How can you create a simple neural network in TensorFlow 2.0 with one hidden layer?\n",
        "import tensorflow as tf\n",
        "from tensorflow.keras import layers, models\n",
        "\n",
        "# Define a simple neural network model\n",
        "model = models.Sequential([\n",
        "    layers.Input(shape=(4,)),             # Input layer: expects 4 features\n",
        "    layers.Dense(8, activation='relu'),  # Hidden layer: 8 neurons with ReLU activation\n",
        "    layers.Dense(1, activation='sigmoid')  # Output layer: single neuron with sigmoid activation\n",
        "])\n",
        "\n",
        "# Compile the model\n",
        "model.compile(optimizer='adam',\n",
        "              loss='binary_crossentropy',\n",
        "              metrics=['accuracy'])\n",
        "\n",
        "# Display model architecture\n",
        "model.summary()"
      ],
      "metadata": {
        "colab": {
          "base_uri": "https://localhost:8080/",
          "height": 204
        },
        "id": "eZvmA1cC3mMd",
        "outputId": "77e84f48-e7de-4d52-ce3c-4ef8e84a9e14"
      },
      "execution_count": 5,
      "outputs": [
        {
          "output_type": "display_data",
          "data": {
            "text/plain": [
              "\u001b[1mModel: \"sequential\"\u001b[0m\n"
            ],
            "text/html": [
              "<pre style=\"white-space:pre;overflow-x:auto;line-height:normal;font-family:Menlo,'DejaVu Sans Mono',consolas,'Courier New',monospace\"><span style=\"font-weight: bold\">Model: \"sequential\"</span>\n",
              "</pre>\n"
            ]
          },
          "metadata": {}
        },
        {
          "output_type": "display_data",
          "data": {
            "text/plain": [
              "┏━━━━━━━━━━━━━━━━━━━━━━━━━━━━━━━━━┳━━━━━━━━━━━━━━━━━━━━━━━━┳━━━━━━━━━━━━━━━┓\n",
              "┃\u001b[1m \u001b[0m\u001b[1mLayer (type)                   \u001b[0m\u001b[1m \u001b[0m┃\u001b[1m \u001b[0m\u001b[1mOutput Shape          \u001b[0m\u001b[1m \u001b[0m┃\u001b[1m \u001b[0m\u001b[1m      Param #\u001b[0m\u001b[1m \u001b[0m┃\n",
              "┡━━━━━━━━━━━━━━━━━━━━━━━━━━━━━━━━━╇━━━━━━━━━━━━━━━━━━━━━━━━╇━━━━━━━━━━━━━━━┩\n",
              "│ dense (\u001b[38;5;33mDense\u001b[0m)                   │ (\u001b[38;5;45mNone\u001b[0m, \u001b[38;5;34m8\u001b[0m)              │            \u001b[38;5;34m40\u001b[0m │\n",
              "├─────────────────────────────────┼────────────────────────┼───────────────┤\n",
              "│ dense_1 (\u001b[38;5;33mDense\u001b[0m)                 │ (\u001b[38;5;45mNone\u001b[0m, \u001b[38;5;34m1\u001b[0m)              │             \u001b[38;5;34m9\u001b[0m │\n",
              "└─────────────────────────────────┴────────────────────────┴───────────────┘\n"
            ],
            "text/html": [
              "<pre style=\"white-space:pre;overflow-x:auto;line-height:normal;font-family:Menlo,'DejaVu Sans Mono',consolas,'Courier New',monospace\">┏━━━━━━━━━━━━━━━━━━━━━━━━━━━━━━━━━┳━━━━━━━━━━━━━━━━━━━━━━━━┳━━━━━━━━━━━━━━━┓\n",
              "┃<span style=\"font-weight: bold\"> Layer (type)                    </span>┃<span style=\"font-weight: bold\"> Output Shape           </span>┃<span style=\"font-weight: bold\">       Param # </span>┃\n",
              "┡━━━━━━━━━━━━━━━━━━━━━━━━━━━━━━━━━╇━━━━━━━━━━━━━━━━━━━━━━━━╇━━━━━━━━━━━━━━━┩\n",
              "│ dense (<span style=\"color: #0087ff; text-decoration-color: #0087ff\">Dense</span>)                   │ (<span style=\"color: #00d7ff; text-decoration-color: #00d7ff\">None</span>, <span style=\"color: #00af00; text-decoration-color: #00af00\">8</span>)              │            <span style=\"color: #00af00; text-decoration-color: #00af00\">40</span> │\n",
              "├─────────────────────────────────┼────────────────────────┼───────────────┤\n",
              "│ dense_1 (<span style=\"color: #0087ff; text-decoration-color: #0087ff\">Dense</span>)                 │ (<span style=\"color: #00d7ff; text-decoration-color: #00d7ff\">None</span>, <span style=\"color: #00af00; text-decoration-color: #00af00\">1</span>)              │             <span style=\"color: #00af00; text-decoration-color: #00af00\">9</span> │\n",
              "└─────────────────────────────────┴────────────────────────┴───────────────┘\n",
              "</pre>\n"
            ]
          },
          "metadata": {}
        },
        {
          "output_type": "display_data",
          "data": {
            "text/plain": [
              "\u001b[1m Total params: \u001b[0m\u001b[38;5;34m49\u001b[0m (196.00 B)\n"
            ],
            "text/html": [
              "<pre style=\"white-space:pre;overflow-x:auto;line-height:normal;font-family:Menlo,'DejaVu Sans Mono',consolas,'Courier New',monospace\"><span style=\"font-weight: bold\"> Total params: </span><span style=\"color: #00af00; text-decoration-color: #00af00\">49</span> (196.00 B)\n",
              "</pre>\n"
            ]
          },
          "metadata": {}
        },
        {
          "output_type": "display_data",
          "data": {
            "text/plain": [
              "\u001b[1m Trainable params: \u001b[0m\u001b[38;5;34m49\u001b[0m (196.00 B)\n"
            ],
            "text/html": [
              "<pre style=\"white-space:pre;overflow-x:auto;line-height:normal;font-family:Menlo,'DejaVu Sans Mono',consolas,'Courier New',monospace\"><span style=\"font-weight: bold\"> Trainable params: </span><span style=\"color: #00af00; text-decoration-color: #00af00\">49</span> (196.00 B)\n",
              "</pre>\n"
            ]
          },
          "metadata": {}
        },
        {
          "output_type": "display_data",
          "data": {
            "text/plain": [
              "\u001b[1m Non-trainable params: \u001b[0m\u001b[38;5;34m0\u001b[0m (0.00 B)\n"
            ],
            "text/html": [
              "<pre style=\"white-space:pre;overflow-x:auto;line-height:normal;font-family:Menlo,'DejaVu Sans Mono',consolas,'Courier New',monospace\"><span style=\"font-weight: bold\"> Non-trainable params: </span><span style=\"color: #00af00; text-decoration-color: #00af00\">0</span> (0.00 B)\n",
              "</pre>\n"
            ]
          },
          "metadata": {}
        }
      ]
    },
    {
      "cell_type": "code",
      "source": [
        "# 4. How can you visualize the training progress using TensorFlow and Matplotlib.\n",
        "import tensorflow as tf\n",
        "from tensorflow.keras import layers, models\n",
        "import numpy as np\n",
        "import matplotlib.pyplot as plt\n",
        "\n",
        "# Generate dummy data: 200 samples, 4 features\n",
        "X = np.random.rand(200, 4)\n",
        "y = np.random.randint(0, 2, size=(200, 1))  # Binary target (0 or 1)\n",
        "\n",
        "# Define a simple model\n",
        "model = models.Sequential([\n",
        "    layers.Input(shape=(4,)),\n",
        "    layers.Dense(8, activation='relu'),\n",
        "    layers.Dense(1, activation='sigmoid')\n",
        "])\n",
        "\n",
        "# Compile the model\n",
        "model.compile(optimizer='adam',\n",
        "              loss='binary_crossentropy',\n",
        "              metrics=['accuracy'])\n",
        "\n",
        "# Train the model and store the training history\n",
        "history = model.fit(X, y, epochs=20, batch_size=10, validation_split=0.2)\n",
        "plt.figure(figsize=(12, 5))\n",
        "\n",
        "plt.subplot(1, 2, 1)\n",
        "plt.plot(history.history['loss'], label='Training Loss')\n",
        "plt.plot(history.history['val_loss'], label='Validation Loss')\n",
        "plt.title('Loss Over Epochs')\n",
        "plt.xlabel('Epoch')\n",
        "plt.ylabel('Loss')\n",
        "plt.legend()\n",
        "\n",
        "# Plot training & validation accuracy\n",
        "plt.subplot(1, 2, 2)\n",
        "plt.plot(history.history['accuracy'], label='Training Accuracy')\n",
        "plt.plot(history.history['val_accuracy'], label='Validation Accuracy')\n",
        "plt.title('Accuracy Over Epochs')\n",
        "plt.xlabel('Epoch')\n",
        "plt.ylabel('Accuracy')\n",
        "plt.legend()\n",
        "\n",
        "plt.show()"
      ],
      "metadata": {
        "colab": {
          "base_uri": "https://localhost:8080/",
          "height": 1000
        },
        "id": "YS4WCFqb3y0S",
        "outputId": "3c6a25b0-7552-495b-b350-fe977aa067dd"
      },
      "execution_count": 6,
      "outputs": [
        {
          "output_type": "stream",
          "name": "stdout",
          "text": [
            "Epoch 1/20\n",
            "\u001b[1m16/16\u001b[0m \u001b[32m━━━━━━━━━━━━━━━━━━━━\u001b[0m\u001b[37m\u001b[0m \u001b[1m2s\u001b[0m 18ms/step - accuracy: 0.5310 - loss: 0.6959 - val_accuracy: 0.4250 - val_loss: 0.6964\n",
            "Epoch 2/20\n",
            "\u001b[1m16/16\u001b[0m \u001b[32m━━━━━━━━━━━━━━━━━━━━\u001b[0m\u001b[37m\u001b[0m \u001b[1m0s\u001b[0m 13ms/step - accuracy: 0.5209 - loss: 0.6965 - val_accuracy: 0.4250 - val_loss: 0.6963\n",
            "Epoch 3/20\n",
            "\u001b[1m16/16\u001b[0m \u001b[32m━━━━━━━━━━━━━━━━━━━━\u001b[0m\u001b[37m\u001b[0m \u001b[1m0s\u001b[0m 8ms/step - accuracy: 0.5673 - loss: 0.6883 - val_accuracy: 0.4750 - val_loss: 0.6971\n",
            "Epoch 4/20\n",
            "\u001b[1m16/16\u001b[0m \u001b[32m━━━━━━━━━━━━━━━━━━━━\u001b[0m\u001b[37m\u001b[0m \u001b[1m0s\u001b[0m 9ms/step - accuracy: 0.5246 - loss: 0.7018 - val_accuracy: 0.5000 - val_loss: 0.6973\n",
            "Epoch 5/20\n",
            "\u001b[1m16/16\u001b[0m \u001b[32m━━━━━━━━━━━━━━━━━━━━\u001b[0m\u001b[37m\u001b[0m \u001b[1m0s\u001b[0m 13ms/step - accuracy: 0.5347 - loss: 0.6932 - val_accuracy: 0.4750 - val_loss: 0.6977\n",
            "Epoch 6/20\n",
            "\u001b[1m16/16\u001b[0m \u001b[32m━━━━━━━━━━━━━━━━━━━━\u001b[0m\u001b[37m\u001b[0m \u001b[1m0s\u001b[0m 10ms/step - accuracy: 0.5076 - loss: 0.6988 - val_accuracy: 0.4750 - val_loss: 0.6981\n",
            "Epoch 7/20\n",
            "\u001b[1m16/16\u001b[0m \u001b[32m━━━━━━━━━━━━━━━━━━━━\u001b[0m\u001b[37m\u001b[0m \u001b[1m0s\u001b[0m 16ms/step - accuracy: 0.5434 - loss: 0.6965 - val_accuracy: 0.4750 - val_loss: 0.6984\n",
            "Epoch 8/20\n",
            "\u001b[1m16/16\u001b[0m \u001b[32m━━━━━━━━━━━━━━━━━━━━\u001b[0m\u001b[37m\u001b[0m \u001b[1m0s\u001b[0m 13ms/step - accuracy: 0.6032 - loss: 0.6806 - val_accuracy: 0.4750 - val_loss: 0.6991\n",
            "Epoch 9/20\n",
            "\u001b[1m16/16\u001b[0m \u001b[32m━━━━━━━━━━━━━━━━━━━━\u001b[0m\u001b[37m\u001b[0m \u001b[1m0s\u001b[0m 9ms/step - accuracy: 0.6158 - loss: 0.6736 - val_accuracy: 0.4750 - val_loss: 0.6995\n",
            "Epoch 10/20\n",
            "\u001b[1m16/16\u001b[0m \u001b[32m━━━━━━━━━━━━━━━━━━━━\u001b[0m\u001b[37m\u001b[0m \u001b[1m0s\u001b[0m 5ms/step - accuracy: 0.5332 - loss: 0.6902 - val_accuracy: 0.4750 - val_loss: 0.6996\n",
            "Epoch 11/20\n",
            "\u001b[1m16/16\u001b[0m \u001b[32m━━━━━━━━━━━━━━━━━━━━\u001b[0m\u001b[37m\u001b[0m \u001b[1m0s\u001b[0m 4ms/step - accuracy: 0.5619 - loss: 0.6862 - val_accuracy: 0.4750 - val_loss: 0.7005\n",
            "Epoch 12/20\n",
            "\u001b[1m16/16\u001b[0m \u001b[32m━━━━━━━━━━━━━━━━━━━━\u001b[0m\u001b[37m\u001b[0m \u001b[1m0s\u001b[0m 5ms/step - accuracy: 0.5109 - loss: 0.6964 - val_accuracy: 0.4750 - val_loss: 0.7010\n",
            "Epoch 13/20\n",
            "\u001b[1m16/16\u001b[0m \u001b[32m━━━━━━━━━━━━━━━━━━━━\u001b[0m\u001b[37m\u001b[0m \u001b[1m0s\u001b[0m 4ms/step - accuracy: 0.5591 - loss: 0.6892 - val_accuracy: 0.4750 - val_loss: 0.7027\n",
            "Epoch 14/20\n",
            "\u001b[1m16/16\u001b[0m \u001b[32m━━━━━━━━━━━━━━━━━━━━\u001b[0m\u001b[37m\u001b[0m \u001b[1m0s\u001b[0m 4ms/step - accuracy: 0.6040 - loss: 0.6777 - val_accuracy: 0.4750 - val_loss: 0.7044\n",
            "Epoch 15/20\n",
            "\u001b[1m16/16\u001b[0m \u001b[32m━━━━━━━━━━━━━━━━━━━━\u001b[0m\u001b[37m\u001b[0m \u001b[1m0s\u001b[0m 5ms/step - accuracy: 0.5597 - loss: 0.6889 - val_accuracy: 0.4750 - val_loss: 0.7050\n",
            "Epoch 16/20\n",
            "\u001b[1m16/16\u001b[0m \u001b[32m━━━━━━━━━━━━━━━━━━━━\u001b[0m\u001b[37m\u001b[0m \u001b[1m0s\u001b[0m 4ms/step - accuracy: 0.5696 - loss: 0.6859 - val_accuracy: 0.4750 - val_loss: 0.7059\n",
            "Epoch 17/20\n",
            "\u001b[1m16/16\u001b[0m \u001b[32m━━━━━━━━━━━━━━━━━━━━\u001b[0m\u001b[37m\u001b[0m \u001b[1m0s\u001b[0m 5ms/step - accuracy: 0.5453 - loss: 0.6936 - val_accuracy: 0.4750 - val_loss: 0.7067\n",
            "Epoch 18/20\n",
            "\u001b[1m16/16\u001b[0m \u001b[32m━━━━━━━━━━━━━━━━━━━━\u001b[0m\u001b[37m\u001b[0m \u001b[1m0s\u001b[0m 5ms/step - accuracy: 0.5989 - loss: 0.6760 - val_accuracy: 0.4750 - val_loss: 0.7076\n",
            "Epoch 19/20\n",
            "\u001b[1m16/16\u001b[0m \u001b[32m━━━━━━━━━━━━━━━━━━━━\u001b[0m\u001b[37m\u001b[0m \u001b[1m0s\u001b[0m 5ms/step - accuracy: 0.5787 - loss: 0.6810 - val_accuracy: 0.4750 - val_loss: 0.7076\n",
            "Epoch 20/20\n",
            "\u001b[1m16/16\u001b[0m \u001b[32m━━━━━━━━━━━━━━━━━━━━\u001b[0m\u001b[37m\u001b[0m \u001b[1m0s\u001b[0m 5ms/step - accuracy: 0.5339 - loss: 0.6878 - val_accuracy: 0.4750 - val_loss: 0.7080\n"
          ]
        },
        {
          "output_type": "display_data",
          "data": {
            "text/plain": [
              "<Figure size 1200x500 with 2 Axes>"
            ],
            "image/png": "[encoded data removed]"
          },
          "metadata": {}
        }
      ]
    },
    {
      "cell_type": "code",
      "source": [
        "# 5. How do you install PyTorch and verify the PyTorch installation?\n",
        "!pip install torch torchvision"
      ],
      "metadata": {
        "colab": {
          "base_uri": "https://localhost:8080/"
        },
        "id": "rnTtFTXZ4JIp",
        "outputId": "6e59d900-0dfe-4ccf-b565-e6bbab0c717d"
      },
      "execution_count": 8,
      "outputs": [
        {
          "output_type": "stream",
          "name": "stdout",
          "text": [
            "Requirement already satisfied: torch in /usr/local/lib/python3.12/dist-packages (2.8.0+cu126)\n",
            "Requirement already satisfied: torchvision in /usr/local/lib/python3.12/dist-packages (0.23.0+cu126)\n",
            "Requirement already satisfied: filelock in /usr/local/lib/python3.12/dist-packages (from torch) (3.19.1)\n",
            "Requirement already satisfied: typing-extensions>=4.10.0 in /usr/local/lib/python3.12/dist-packages (from torch) (4.15.0)\n",
            "Requirement already satisfied: setuptools in /usr/local/lib/python3.12/dist-packages (from torch) (75.2.0)\n",
            "Requirement already satisfied: sympy>=1.13.3 in /usr/local/lib/python3.12/dist-packages (from torch) (1.13.3)\n",
            "Requirement already satisfied: networkx in /usr/local/lib/python3.12/dist-packages (from torch) (3.5)\n",
            "Requirement already satisfied: jinja2 in /usr/local/lib/python3.12/dist-packages (from torch) (3.1.6)\n",
            "Requirement already satisfied: fsspec in /usr/local/lib/python3.12/dist-packages (from torch) (2025.3.0)\n",
            "Requirement already satisfied: nvidia-cuda-nvrtc-cu12==12.6.77 in /usr/local/lib/python3.12/dist-packages (from torch) (12.6.77)\n",
            "Requirement already satisfied: nvidia-cuda-runtime-cu12==12.6.77 in /usr/local/lib/python3.12/dist-packages (from torch) (12.6.77)\n",
            "Requirement already satisfied: nvidia-cuda-cupti-cu12==12.6.80 in /usr/local/lib/python3.12/dist-packages (from torch) (12.6.80)\n",
            "Requirement already satisfied: nvidia-cudnn-cu12==9.10.2.21 in /usr/local/lib/python3.12/dist-packages (from torch) (9.10.2.21)\n",
            "Requirement already satisfied: nvidia-cublas-cu12==12.6.4.1 in /usr/local/lib/python3.12/dist-packages (from torch) (12.6.4.1)\n",
            "Requirement already satisfied: nvidia-cufft-cu12==11.3.0.4 in /usr/local/lib/python3.12/dist-packages (from torch) (11.3.0.4)\n",
            "Requirement already satisfied: nvidia-curand-cu12==10.3.7.77 in /usr/local/lib/python3.12/dist-packages (from torch) (10.3.7.77)\n",
            "Requirement already satisfied: nvidia-cusolver-cu12==11.7.1.2 in /usr/local/lib/python3.12/dist-packages (from torch) (11.7.1.2)\n",
            "Requirement already satisfied: nvidia-cusparse-cu12==12.5.4.2 in /usr/local/lib/python3.12/dist-packages (from torch) (12.5.4.2)\n",
            "Requirement already satisfied: nvidia-cusparselt-cu12==0.7.1 in /usr/local/lib/python3.12/dist-packages (from torch) (0.7.1)\n",
            "Requirement already satisfied: nvidia-nccl-cu12==2.27.3 in /usr/local/lib/python3.12/dist-packages (from torch) (2.27.3)\n",
            "Requirement already satisfied: nvidia-nvtx-cu12==12.6.77 in /usr/local/lib/python3.12/dist-packages (from torch) (12.6.77)\n",
            "Requirement already satisfied: nvidia-nvjitlink-cu12==12.6.85 in /usr/local/lib/python3.12/dist-packages (from torch) (12.6.85)\n",
            "Requirement already satisfied: nvidia-cufile-cu12==1.11.1.6 in /usr/local/lib/python3.12/dist-packages (from torch) (1.11.1.6)\n",
            "Requirement already satisfied: triton==3.4.0 in /usr/local/lib/python3.12/dist-packages (from torch) (3.4.0)\n",
            "Requirement already satisfied: numpy in /usr/local/lib/python3.12/dist-packages (from torchvision) (2.0.2)\n",
            "Requirement already satisfied: pillow!=8.3.*,>=5.3.0 in /usr/local/lib/python3.12/dist-packages (from torchvision) (11.3.0)\n",
            "Requirement already satisfied: mpmath<1.4,>=1.1.0 in /usr/local/lib/python3.12/dist-packages (from sympy>=1.13.3->torch) (1.3.0)\n",
            "Requirement already satisfied: MarkupSafe>=2.0 in /usr/local/lib/python3.12/dist-packages (from jinja2->torch) (3.0.2)\n"
          ]
        }
      ]
    },
    {
      "cell_type": "code",
      "source": [
        "import torch\n",
        "\n",
        "# Print PyTorch version\n",
        "print(\"PyTorch version:\", torch.__version__)\n",
        "\n",
        "# Check if GPU is available\n",
        "print(\"Is CUDA available?\", torch.cuda.is_available())\n",
        "\n",
        "# Simple tensor operation test\n",
        "x = torch.tensor([1.0, 2.0, 3.0])\n",
        "y = torch.tensor([4.0, 5.0, 6.0])\n",
        "\n",
        "result = x + y\n",
        "print(\"Tensor addition result:\", result)"
      ],
      "metadata": {
        "colab": {
          "base_uri": "https://localhost:8080/"
        },
        "id": "iYe8Zl-l4aWr",
        "outputId": "ea298689-8836-4d58-d50f-b45ef5246d0c"
      },
      "execution_count": 9,
      "outputs": [
        {
          "output_type": "stream",
          "name": "stdout",
          "text": [
            "PyTorch version: 2.8.0+cu126\n",
            "Is CUDA available? False\n",
            "Tensor addition result: tensor([5., 7., 9.])\n"
          ]
        }
      ]
    },
    {
      "cell_type": "code",
      "source": [
        "# 6. How do you create a simple neural network in PyTorch?\n",
        "import torch\n",
        "import torch.nn as nn\n",
        "import torch.optim as optim\n",
        "from torch.utils.data import DataLoader, TensorDataset\n",
        "import numpy as np\n",
        "\n",
        "# Dummy dataset: 200 samples, 4 features\n",
        "X = np.random.rand(200, 4).astype(np.float32)\n",
        "y = np.random.randint(0, 2, size=(200, 1)).astype(np.float32)\n",
        "\n",
        "# Convert to PyTorch tensors\n",
        "X_tensor = torch.from_numpy(X)\n",
        "y_tensor = torch.from_numpy(y)\n",
        "\n",
        "# Create Dataset and DataLoader\n",
        "dataset = TensorDataset(X_tensor, y_tensor)\n",
        "data_loader = DataLoader(dataset, batch_size=10, shuffle=True)\n"
      ],
      "metadata": {
        "id": "kvEmab174leT"
      },
      "execution_count": 10,
      "outputs": []
    },
    {
      "cell_type": "code",
      "source": [
        "class SimpleNN(nn.Module):\n",
        "    def __init__(self):\n",
        "        super(SimpleNN, self).__init__()\n",
        "        self.layer1 = nn.Linear(4, 8)    # Input: 4 features → Hidden: 8 neurons\n",
        "        self.relu = nn.ReLU()\n",
        "        self.output = nn.Linear(8, 1)   # Output layer (binary classification)\n",
        "        self.sigmoid = nn.Sigmoid()\n",
        "\n",
        "    def forward(self, x):\n",
        "        x = self.layer1(x)\n",
        "        x = self.relu(x)\n",
        "        x = self.output(x)\n",
        "        x = self.sigmoid(x)\n",
        "        return x"
      ],
      "metadata": {
        "id": "xaTWaDjI5Fpl"
      },
      "execution_count": 11,
      "outputs": []
    },
    {
      "cell_type": "code",
      "source": [
        "model = SimpleNN()\n",
        "criterion = nn.BCELoss()              # Binary Cross-Entropy Loss\n",
        "optimizer = optim.Adam(model.parameters(), lr=0.01)\n",
        "num_epochs = 20\n",
        "\n",
        "for epoch in range(num_epochs):\n",
        "    for batch_X, batch_y in data_loader:\n",
        "        # Forward pass\n",
        "        outputs = model(batch_X)\n",
        "        loss = criterion(outputs, batch_y)\n",
        "\n",
        "        # Backward pass and optimization\n",
        "        optimizer.zero_grad()\n",
        "        loss.backward()\n",
        "        optimizer.step()\n",
        "\n",
        "    print(f'Epoch [{epoch+1}/{num_epochs}], Loss: {loss.item():.4f}')\n",
        "test_input = torch.tensor([[0.5, 0.1, 0.3, 0.7]])\n",
        "predicted = model(test_input).item()\n",
        "print(f\"Predicted probability: {predicted:.4f}\")\n",
        ""
      ],
      "metadata": {
        "colab": {
          "base_uri": "https://localhost:8080/"
        },
        "id": "rvdixZNJ5HHE",
        "outputId": "d94c5acf-bac0-4b32-9bdc-0429b646ef4d"
      },
      "execution_count": 12,
      "outputs": [
        {
          "output_type": "stream",
          "name": "stdout",
          "text": [
            "Epoch [1/20], Loss: 0.7231\n",
            "Epoch [2/20], Loss: 0.6768\n",
            "Epoch [3/20], Loss: 0.7123\n",
            "Epoch [4/20], Loss: 0.6702\n",
            "Epoch [5/20], Loss: 0.6717\n",
            "Epoch [6/20], Loss: 0.6963\n",
            "Epoch [7/20], Loss: 0.6916\n",
            "Epoch [8/20], Loss: 0.7460\n",
            "Epoch [9/20], Loss: 0.6621\n",
            "Epoch [10/20], Loss: 0.6958\n",
            "Epoch [11/20], Loss: 0.6679\n",
            "Epoch [12/20], Loss: 0.6691\n",
            "Epoch [13/20], Loss: 0.6863\n",
            "Epoch [14/20], Loss: 0.6705\n",
            "Epoch [15/20], Loss: 0.6862\n",
            "Epoch [16/20], Loss: 0.6783\n",
            "Epoch [17/20], Loss: 0.6462\n",
            "Epoch [18/20], Loss: 0.6677\n",
            "Epoch [19/20], Loss: 0.6739\n",
            "Epoch [20/20], Loss: 0.6400\n",
            "Predicted probability: 0.4413\n"
          ]
        }
      ]
    },
    {
      "cell_type": "code",
      "source": [
        "# 7. How do you define a loss function and optimizer in PyTorch?\n",
        "import torch\n",
        "import torch.nn as nn\n",
        "import torch.optim as optim\n",
        "\n",
        "# Example dummy model\n",
        "model = nn.Sequential(\n",
        "    nn.Linear(4, 8),\n",
        "    nn.ReLU(),\n",
        "    nn.Linear(8, 1),\n",
        "    nn.Sigmoid()  # Use Sigmoid activation in output for BCELoss\n",
        ")\n",
        "\n",
        "# Loss function\n",
        "criterion = nn.BCELoss()\n",
        "\n",
        "# Optimizer\n",
        "optimizer = optim.Adam(model.parameters(), lr=0.01)"
      ],
      "metadata": {
        "id": "OTtnRaaj5Raq"
      },
      "execution_count": 13,
      "outputs": []
    },
    {
      "cell_type": "code",
      "source": [
        "# 8. How do you implement a custom loss function in PyTorch?\n",
        "import torch\n",
        "import torch.nn as nn\n",
        "\n",
        "# Example custom loss: Mean Absolute Error (MAE), as demonstration\n",
        "class CustomMAELoss(nn.Module):\n",
        "    def __init__(self):\n",
        "        super(CustomMAELoss, self).__init__()\n",
        "\n",
        "    def forward(self, outputs, targets):\n",
        "        return torch.mean(torch.abs(outputs - targets))"
      ],
      "metadata": {
        "id": "XJxu_Z0M5mFs"
      },
      "execution_count": 14,
      "outputs": []
    },
    {
      "cell_type": "code",
      "source": [
        "model = nn.Sequential(\n",
        "    nn.Linear(4, 8),\n",
        "    nn.ReLU(),\n",
        "    nn.Linear(8, 1),\n",
        "    nn.Sigmoid()\n",
        ")\n",
        "\n",
        "# Use the custom loss function\n",
        "criterion = CustomMAELoss()\n",
        "\n",
        "# Optimizer\n",
        "optimizer = torch.optim.Adam(model.parameters(), lr=0.01)\n",
        "\n",
        "# Example dummy data\n",
        "inputs = torch.rand((10, 4))         # Batch of 10 samples, 4 features\n",
        "targets = torch.rand((10, 1))       # Target values between 0 and 1\n",
        "\n",
        "# Forward pass\n",
        "outputs = model(inputs)\n",
        "\n",
        "# Compute custom loss\n",
        "loss = criterion(outputs, targets)\n",
        "\n",
        "# Backpropagation\n",
        "optimizer.zero_grad()\n",
        "loss.backward()\n",
        "optimizer.step()\n",
        "\n",
        "print(f\"Custom loss value: {loss.item():.4f}\")"
      ],
      "metadata": {
        "colab": {
          "base_uri": "https://localhost:8080/"
        },
        "id": "LhW6KMkm5zc6",
        "outputId": "3584d170-a6e6-42cc-f96c-3853d02d55d5"
      },
      "execution_count": 15,
      "outputs": [
        {
          "output_type": "stream",
          "name": "stdout",
          "text": [
            "Custom loss value: 0.2276\n"
          ]
        }
      ]
    },
    {
      "cell_type": "code",
      "source": [
        "# 9. How do you save and load a TensorFlow model?\n",
        "import tensorflow as tf\n",
        "from tensorflow.keras import layers, models\n",
        "import numpy as np\n",
        "\n",
        "# Define simple model\n",
        "model = models.Sequential([\n",
        "    tf.keras.Input(shape=(4,)),    # Proper way to define input shape\n",
        "    layers.Dense(8, activation='relu'),\n",
        "    layers.Dense(1, activation='sigmoid')\n",
        "])\n",
        "\n",
        "model.compile(optimizer='adam',\n",
        "              loss='binary_crossentropy',\n",
        "              metrics=['accuracy'])\n",
        "\n",
        "# Save model in Keras format\n",
        "model.save('my_model.keras')\n",
        "\n",
        "# Load the model\n",
        "loaded_model = tf.keras.models.load_model('my_model.keras')\n",
        "\n",
        "# Test prediction\n",
        "test_input = np.random.rand(1, 4)\n",
        "prediction = loaded_model.predict(test_input)\n",
        "print(\"Predicted output:\", prediction)"
      ],
      "metadata": {
        "colab": {
          "base_uri": "https://localhost:8080/"
        },
        "id": "kRU_TGwt5170",
        "outputId": "fd111864-ebe2-4a66-ed23-f7f687560300"
      },
      "execution_count": 17,
      "outputs": [
        {
          "output_type": "stream",
          "name": "stderr",
          "text": [
            "/usr/local/lib/python3.12/dist-packages/keras/src/saving/saving_lib.py:802: UserWarning: Skipping variable loading for optimizer 'adam', because it has 10 variables whereas the saved optimizer has 2 variables. \n",
            "  saveable.load_own_variables(weights_store.get(inner_path))\n"
          ]
        },
        {
          "output_type": "stream",
          "name": "stdout",
          "text": [
            "\u001b[1m1/1\u001b[0m \u001b[32m━━━━━━━━━━━━━━━━━━━━\u001b[0m\u001b[37m\u001b[0m \u001b[1m0s\u001b[0m 388ms/step\n",
            "Predicted output: [[0.32833746]]\n"
          ]
        }
      ]
    }
  ]
}